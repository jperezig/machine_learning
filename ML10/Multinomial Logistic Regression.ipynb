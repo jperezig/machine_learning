{
 "cells": [
  {
   "cell_type": "code",
   "execution_count": 162,
   "metadata": {
    "collapsed": true
   },
   "outputs": [],
   "source": [
    "import numpy as np\n",
    "from sklearn.datasets import load_iris\n",
    "from sklearn.preprocessing import StandardScaler, OneHotEncoder\n",
    "from sklearn.metrics import accuracy_score"
   ]
  },
  {
   "cell_type": "code",
   "execution_count": 163,
   "metadata": {
    "collapsed": true
   },
   "outputs": [],
   "source": [
    "iris = load_iris()\n",
    "m , n = iris.data.shape\n",
    "X_scaled = StandardScaler().fit_transform(iris.data)\n",
    "X_scaled_with_bias = np.c_[np.ones((m, 1)), X_scaled]\n",
    "y = iris.target.reshape(-1,1)\n",
    "y_encoded = OneHotEncoder(sparse=False).fit_transform(y)\n",
    "thetas = np.random.uniform(size=(n + 1, y_encoded.shape[1]))"
   ]
  },
  {
   "cell_type": "code",
   "execution_count": 166,
   "metadata": {},
   "outputs": [
    {
     "name": "stdout",
     "output_type": "stream",
     "text": [
      "Error 0.0133, Accuracy: 0.987\n",
      "Error 0.0133, Accuracy: 0.987\n",
      "Error 0.0133, Accuracy: 0.987\n",
      "Error 0.0132, Accuracy: 0.987\n",
      "Error 0.0132, Accuracy: 0.987\n",
      "Error 0.0132, Accuracy: 0.987\n",
      "Error 0.0132, Accuracy: 0.987\n",
      "Error 0.0132, Accuracy: 0.987\n",
      "Error 0.0132, Accuracy: 0.987\n",
      "Error 0.0132, Accuracy: 0.987\n"
     ]
    }
   ],
   "source": [
    "n_epochs = 1000\n",
    "learning_rate = 0.1\n",
    "\n",
    "for e in range(n_epochs):\n",
    "    y_pred = np.matmul(X_scaled_with_bias, thetas)\n",
    "    softmax_y_pred = np.exp(y_pred) / np.sum(np.exp(y_pred), axis=1, keepdims=True)\n",
    "    cross_entropy =  - np.mean(y_encoded * np.log(softmax_y_pred))\n",
    "    gradients = np.matmul(X_scaled_with_bias.T, (softmax_y_pred - y_encoded))\n",
    "    thetas = thetas - learning_rate*gradients\n",
    "    if e % 100 == 0:\n",
    "        accuracy = accuracy_score(y_pred=np.argmax(softmax_y_pred, axis=1), y_true=iris.target)\n",
    "        print('Error {:.4f}, Accuracy: {:.3f}'.format(cross_entropy, accuracy))\n",
    " "
   ]
  },
  {
   "cell_type": "code",
   "execution_count": null,
   "metadata": {
    "collapsed": true
   },
   "outputs": [],
   "source": []
  }
 ],
 "metadata": {
  "kernelspec": {
   "display_name": "Python 3",
   "language": "python",
   "name": "python3"
  },
  "language_info": {
   "codemirror_mode": {
    "name": "ipython",
    "version": 3
   },
   "file_extension": ".py",
   "mimetype": "text/x-python",
   "name": "python",
   "nbconvert_exporter": "python",
   "pygments_lexer": "ipython3",
   "version": "3.6.1"
  }
 },
 "nbformat": 4,
 "nbformat_minor": 2
}
