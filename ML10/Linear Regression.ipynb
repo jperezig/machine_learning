{
 "cells": [
  {
   "cell_type": "code",
   "execution_count": 162,
   "metadata": {
    "collapsed": true
   },
   "outputs": [],
   "source": [
    "import numpy as np\n",
    "from sklearn.datasets import fetch_california_housing\n",
    "from sklearn.preprocessing import StandardScaler\n",
    "from sklearn.metrics import mean_squared_error"
   ]
  },
  {
   "cell_type": "code",
   "execution_count": 163,
   "metadata": {
    "collapsed": true
   },
   "outputs": [],
   "source": [
    "california = fetch_california_housing()"
   ]
  },
  {
   "cell_type": "code",
   "execution_count": 164,
   "metadata": {},
   "outputs": [],
   "source": [
    "m, n = california.data.shape\n",
    "#Add bias to X\n",
    "scaled_X = StandardScaler().fit_transform(boston.data)\n",
    "X = np.c_[np.ones([m,1]), scaled_X]\n",
    "y = california.target.reshape(-1,1)\n",
    "theta = np.random.normal(size=[n+1,1])"
   ]
  },
  {
   "cell_type": "code",
   "execution_count": 165,
   "metadata": {},
   "outputs": [
    {
     "name": "stdout",
     "output_type": "stream",
     "text": [
      "MSE: 15.718406565863276\n",
      "MSE: 0.5426738510701266\n",
      "MSE: 0.5258608132987964\n",
      "MSE: 0.5245152303704482\n",
      "MSE: 0.5243502592866506\n",
      "MSE: 0.5243256303356237\n",
      "MSE: 0.5243217324709653\n",
      "MSE: 0.5243211064764438\n",
      "MSE: 0.5243210055882135\n",
      "MSE: 0.5243209893150329\n"
     ]
    }
   ],
   "source": [
    "n_epochs = 10000\n",
    "learning_rate = 0.01\n",
    "\n",
    "for e in range(n_epochs):    \n",
    "    y_pred = np.matmul(X, theta)\n",
    "    error = y_pred - y\n",
    "    gradients = (2/m) * (np.matmul(X.T, error))\n",
    "    theta = theta - (learning_rate * gradients)\n",
    "    if e % 1000 == 0:\n",
    "        print('MSE: {}'.format(mean_squared_error(y_pred=y_pred, y_true=y)))\n"
   ]
  },
  {
   "cell_type": "code",
   "execution_count": null,
   "metadata": {
    "collapsed": true
   },
   "outputs": [],
   "source": []
  }
 ],
 "metadata": {
  "kernelspec": {
   "display_name": "Python 3",
   "language": "python",
   "name": "python3"
  },
  "language_info": {
   "codemirror_mode": {
    "name": "ipython",
    "version": 3
   },
   "file_extension": ".py",
   "mimetype": "text/x-python",
   "name": "python",
   "nbconvert_exporter": "python",
   "pygments_lexer": "ipython3",
   "version": "3.6.1"
  }
 },
 "nbformat": 4,
 "nbformat_minor": 2
}
