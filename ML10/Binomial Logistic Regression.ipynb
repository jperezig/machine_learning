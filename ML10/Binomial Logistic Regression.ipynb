{
 "cells": [
  {
   "cell_type": "code",
   "execution_count": 9,
   "metadata": {
    "collapsed": true
   },
   "outputs": [],
   "source": [
    "import numpy as np\n",
    "from sklearn.datasets import load_iris\n",
    "from sklearn.preprocessing import StandardScaler\n",
    "from sklearn.metrics import accuracy_score"
   ]
  },
  {
   "cell_type": "code",
   "execution_count": 10,
   "metadata": {
    "collapsed": true
   },
   "outputs": [],
   "source": [
    "iris = load_iris()"
   ]
  },
  {
   "cell_type": "code",
   "execution_count": 11,
   "metadata": {
    "collapsed": true
   },
   "outputs": [],
   "source": [
    "m, n = iris.data[0:100].shape\n",
    "X_scaled = StandardScaler().fit_transform(iris.data[0:100])\n",
    "X = np.c_[np.ones([m, 1]), X_scaled]\n",
    "y = iris.target[0:100].reshape(-1,1)\n",
    "theta = np.random.normal(size=(n+1, 1))"
   ]
  },
  {
   "cell_type": "code",
   "execution_count": 14,
   "metadata": {},
   "outputs": [
    {
     "name": "stdout",
     "output_type": "stream",
     "text": [
      "Cross Entropy 0.0007, Accuracy: 1.000\n",
      "Cross Entropy 0.0007, Accuracy: 1.000\n",
      "Cross Entropy 0.0007, Accuracy: 1.000\n",
      "Cross Entropy 0.0007, Accuracy: 1.000\n",
      "Cross Entropy 0.0007, Accuracy: 1.000\n",
      "Cross Entropy 0.0007, Accuracy: 1.000\n",
      "Cross Entropy 0.0007, Accuracy: 1.000\n",
      "Cross Entropy 0.0007, Accuracy: 1.000\n",
      "Cross Entropy 0.0007, Accuracy: 1.000\n",
      "Cross Entropy 0.0007, Accuracy: 1.000\n"
     ]
    }
   ],
   "source": [
    "n_epochs = 1000\n",
    "learning_rate = 0.001\n",
    "\n",
    "\n",
    "for e in range(n_epochs):\n",
    "    y_pred = np.matmul(X, theta)\n",
    "    logit_y_pred = 1 / (1 + np.exp(-y_pred))\n",
    "    cross_entropy = - np.mean(y * np.log(logit_y_pred) + (1 - y)*np.log(1 - logit_y_pred))\n",
    "    accuracy = accuracy_score(y_pred = np.rint(logit_y_pred), y_true=y)\n",
    "    gradients = np.matmul(X.T, (logit_y_pred - y))\n",
    "    theta = theta - learning_rate* gradients\n",
    "    if e % 100 == 0:\n",
    "        print('Cross Entropy {:.4f}, Accuracy: {:.3f}'.format(cross_entropy, accuracy))"
   ]
  },
  {
   "cell_type": "code",
   "execution_count": null,
   "metadata": {
    "collapsed": true
   },
   "outputs": [],
   "source": []
  },
  {
   "cell_type": "code",
   "execution_count": null,
   "metadata": {
    "collapsed": true
   },
   "outputs": [],
   "source": []
  }
 ],
 "metadata": {
  "kernelspec": {
   "display_name": "Python 3",
   "language": "python",
   "name": "python3"
  },
  "language_info": {
   "codemirror_mode": {
    "name": "ipython",
    "version": 3
   },
   "file_extension": ".py",
   "mimetype": "text/x-python",
   "name": "python",
   "nbconvert_exporter": "python",
   "pygments_lexer": "ipython3",
   "version": "3.6.1"
  }
 },
 "nbformat": 4,
 "nbformat_minor": 2
}
